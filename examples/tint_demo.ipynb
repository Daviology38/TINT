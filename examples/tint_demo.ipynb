{
 "cells": [
  {
   "cell_type": "markdown",
   "metadata": {},
   "source": [
    "# TINT Demonstration\n"
   ]
  },
  {
   "cell_type": "markdown",
   "metadata": {},
   "source": [
    "This notebook will take you through the following process:\n",
    "\n",
    "1. GET DATA - Obtain nexrad data from Amazon S3\n",
    "2. GRID - Map data to cartesian grids using Py-ART\n",
    "3. TRACK - Perform cell tracking using TINT\n",
    "4. VISUALIZE - Visualize the tracks"
   ]
  },
  {
   "cell_type": "code",
   "execution_count": 2,
   "metadata": {},
   "outputs": [
    {
     "name": "stdout",
     "output_type": "stream",
     "text": [
      "\n",
      "## You are using the Python ARM Radar Toolkit (Py-ART), an open source\n",
      "## library for working with weather radar data. Py-ART is partly\n",
      "## supported by the U.S. Department of Energy as part of the Atmospheric\n",
      "## Radiation Measurement (ARM) Climate Research Facility, an Office of\n",
      "## Science user facility.\n",
      "##\n",
      "## If you use this software to prepare a publication, please cite:\n",
      "##\n",
      "##     JJ Helmus and SM Collis, JORS 2016, doi: 10.5334/jors.119\n",
      "\n"
     ]
    }
   ],
   "source": [
    "import numpy as np\n",
    "from matplotlib import pyplot as plt\n",
    "from matplotlib.animation import FuncAnimation\n",
    "from IPython.display import HTML, Image, display\n",
    "import tempfile\n",
    "import os\n",
    "os.environ['PROJ_LIB'] = r'c:\\Users\\CoeFamily\\.conda\\envs\\meteorology\\Library\\share'\n",
    "import shutil\n",
    "\n",
    "import pyart\n",
    "from tint.data_utils import get_nexrad_keys, read_nexrad_key\n",
    "from tint import Cell_tracks, animate\n",
    "from tint.visualization import embed_mp4_as_gif\n",
    "import cartopy.crs as ccrs"
   ]
  },
  {
   "cell_type": "markdown",
   "metadata": {},
   "source": [
    "## 1. GET DATA\n"
   ]
  },
  {
   "cell_type": "code",
   "execution_count": 2,
   "metadata": {},
   "outputs": [
    {
     "name": "stdout",
     "output_type": "stream",
     "text": [
      "Found 24 keys.\n"
     ]
    }
   ],
   "source": [
    "# Let's get some nexrad data from Amazon S3 to use for tracking\n",
    "# I know of some storm cells that passed over Houston back in July of 2015\n",
    "keys = get_nexrad_keys('kbox', start='20020206_023000', end='20020206_073000')"
   ]
  },
  {
   "cell_type": "code",
   "execution_count": 1,
   "metadata": {
    "scrolled": false
   },
   "outputs": [
    {
     "ename": "NameError",
     "evalue": "name 'plt' is not defined",
     "output_type": "error",
     "traceback": [
      "\u001b[1;31m---------------------------------------------------------------------------\u001b[0m",
      "\u001b[1;31mNameError\u001b[0m                                 Traceback (most recent call last)",
      "\u001b[1;32m<ipython-input-1-df466f55e271>\u001b[0m in \u001b[0;36m<module>\u001b[1;34m\u001b[0m\n\u001b[0;32m      1\u001b[0m \u001b[1;31m# We can visualize this data using pyart and matplotlib\u001b[0m\u001b[1;33m\u001b[0m\u001b[1;33m\u001b[0m\u001b[1;33m\u001b[0m\u001b[0m\n\u001b[1;32m----> 2\u001b[1;33m \u001b[0mfig\u001b[0m \u001b[1;33m=\u001b[0m \u001b[0mplt\u001b[0m\u001b[1;33m.\u001b[0m\u001b[0mfigure\u001b[0m\u001b[1;33m(\u001b[0m\u001b[0mfigsize\u001b[0m\u001b[1;33m=\u001b[0m\u001b[1;33m(\u001b[0m\u001b[1;36m10\u001b[0m\u001b[1;33m,\u001b[0m \u001b[1;36m7\u001b[0m\u001b[1;33m)\u001b[0m\u001b[1;33m)\u001b[0m\u001b[1;33m\u001b[0m\u001b[1;33m\u001b[0m\u001b[0m\n\u001b[0m\u001b[0;32m      3\u001b[0m \u001b[1;33m\u001b[0m\u001b[0m\n\u001b[0;32m      4\u001b[0m \u001b[1;33m\u001b[0m\u001b[0m\n\u001b[0;32m      5\u001b[0m \u001b[1;32mdef\u001b[0m \u001b[0mplot_ppi\u001b[0m\u001b[1;33m(\u001b[0m\u001b[0mkey\u001b[0m\u001b[1;33m)\u001b[0m\u001b[1;33m:\u001b[0m\u001b[1;33m\u001b[0m\u001b[1;33m\u001b[0m\u001b[0m\n",
      "\u001b[1;31mNameError\u001b[0m: name 'plt' is not defined"
     ]
    }
   ],
   "source": [
    "# We can visualize this data using pyart and matplotlib\n",
    "fig = plt.figure(figsize=(10, 7))\n",
    "\n",
    "\n",
    "def plot_ppi(key):\n",
    "    \"\"\" Plots ppi map of nexrad data given S3 key. \"\"\"\n",
    "    plt.clf()\n",
    "    radar = read_nexrad_key(key)\n",
    "    display = pyart.graph.RadarMapDisplay(radar)\n",
    "    display.plot_ppi_map('reflectivity', resolution='10m',\n",
    "                         sweep=0, fig=fig,projection = ccrs.PlateCarree(),\n",
    "                         lon_0=radar.longitude['data'][0],\n",
    "                         lat_0=radar.latitude['data'][0])\n",
    "    del display, radar\n",
    "\n",
    "\n",
    "ppi_anim = FuncAnimation(fig, plot_ppi, frames=keys, interval=1000)\n",
    "tmp_anim = tempfile.NamedTemporaryFile(mode='w',delete=False)\n",
    "tmp_anim.close()\n",
    "ppi_anim.save(tmp_anim.name + '.mp4', writer='ffmpeg')\n",
    "embed_mp4_as_gif(tmp_anim.name + '.mp4')\n",
    "os.remove(tmp_anim.name + '.mp4')\n",
    "plt.close()"
   ]
  },
  {
   "cell_type": "markdown",
   "metadata": {},
   "source": [
    "## 2. GRID"
   ]
  },
  {
   "cell_type": "markdown",
   "metadata": {},
   "source": [
    "### Disclaimer\n",
    "If you are running this notebook and don't want this data to remain on your filesystem, make sure you run the last cell in the notebook. If your kernel crashes for some reason, you can manually remove the the path printed after the following cell."
   ]
  },
  {
   "cell_type": "code",
   "execution_count": 4,
   "metadata": {},
   "outputs": [
    {
     "name": "stdout",
     "output_type": "stream",
     "text": [
      "temporary directory: C:\\Users\\COEFAM~1\\AppData\\Local\\Temp\\tmpgohrwarq\n",
      "saving grid 0\n",
      "saving grid 1\n",
      "saving grid 2\n",
      "saving grid 3\n",
      "saving grid 4\n",
      "saving grid 5\n",
      "saving grid 6\n",
      "saving grid 7\n",
      "saving grid 8\n",
      "saving grid 9\n",
      "saving grid 10\n",
      "saving grid 11\n",
      "saving grid 12\n",
      "saving grid 13\n",
      "saving grid 14\n",
      "saving grid 15\n",
      "saving grid 16\n",
      "saving grid 17\n",
      "saving grid 18\n",
      "saving grid 19\n",
      "saving grid 20\n",
      "saving grid 21\n",
      "saving grid 22\n",
      "saving grid 23\n"
     ]
    }
   ],
   "source": [
    "# Looks like there are some interesting cells coming off the gulf.\n",
    "# Let's make a function that maps these volumes to cartesian grids using pyart.\n",
    "# Most of the cells seem to be in the bottom right quadrant, so we'll only grid\n",
    "# that part of the domain to save time.\n",
    "\n",
    "def get_grid(radar):\n",
    "    \"\"\" Returns grid object from radar object. \"\"\"\n",
    "    grid = pyart.map.grid_from_radars(\n",
    "        radar, grid_shape=(31, 401, 401),\n",
    "        grid_limits=((0, 15000), (-200000, 0), (0, 200000)),\n",
    "        fields=['reflectivity'], gridding_algo='map_gates_to_grid',\n",
    "        h_factor=0., nb=0.6, bsp=1., min_radius=200.)\n",
    "    return grid\n",
    "\n",
    "\n",
    "# Let's write these grids to a temporary location so that we can reuse them.\n",
    "# This might take a few minutes\n",
    "tmp_dir = tempfile.mkdtemp()\n",
    "print('temporary directory:', tmp_dir)\n",
    "filenames = []\n",
    "for num, key in enumerate(keys):\n",
    "    print('saving grid', num)\n",
    "    radar = read_nexrad_key(key)\n",
    "    grid = get_grid(radar)\n",
    "    name = os.path.join(tmp_dir, 'grid_' + str(num).zfill(3) + '.nc')\n",
    "    filenames.append(name)\n",
    "    pyart.io.write_grid(name, grid)\n",
    "    del radar, grid"
   ]
  },
  {
   "cell_type": "code",
   "execution_count": 5,
   "metadata": {},
   "outputs": [],
   "source": [
    "# Now we can easily instantiate generators of these grids like so\n",
    "grids = (pyart.io.read_grid(fn) for fn in filenames)"
   ]
  },
  {
   "cell_type": "markdown",
   "metadata": {},
   "source": [
    "## 3. TRACK"
   ]
  },
  {
   "cell_type": "code",
   "execution_count": 6,
   "metadata": {},
   "outputs": [
    {
     "data": {
      "text/plain": [
       "{'FIELD_THRESH': 20,\n",
       " 'MIN_SIZE': 8,\n",
       " 'SEARCH_MARGIN': 4000,\n",
       " 'FLOW_MARGIN': 10000,\n",
       " 'MAX_FLOW_MAG': 50,\n",
       " 'MAX_DISPARITY': 999,\n",
       " 'MAX_SHIFT_DISP': 15,\n",
       " 'ISO_THRESH': 8,\n",
       " 'ISO_SMOOTH': 3,\n",
       " 'GS_ALT': 1500}"
      ]
     },
     "execution_count": 6,
     "metadata": {},
     "output_type": "execute_result"
    }
   ],
   "source": [
    "# First, let's instantiate a tracks object and view the default parameters\n",
    "tracks_obj = Cell_tracks()\n",
    "tracks_obj.params"
   ]
  },
  {
   "cell_type": "code",
   "execution_count": 7,
   "metadata": {},
   "outputs": [
    {
     "name": "stdout",
     "output_type": "stream",
     "text": [
      "No cells found in scan 0\n",
      "No cells found in scan 1\n",
      "No cells found in scan 2\n",
      "Writing tracks for scan 3\n",
      "No cells found in scan 4\n",
      "Writing tracks for scan 5\n",
      "Writing tracks for scan 6\n",
      "Writing tracks for scan 7\n",
      "Writing tracks for scan 8\n",
      "Writing tracks for scan 9\n",
      "Writing tracks for scan 10\n",
      "Writing tracks for scan 11\n",
      "Writing tracks for scan 12\n",
      "Writing tracks for scan 13\n",
      "Writing tracks for scan 14\n",
      "Writing tracks for scan 15\n",
      "Writing tracks for scan 16\n",
      "Writing tracks for scan 17\n",
      "Writing tracks for scan 18\n",
      "Writing tracks for scan 19\n",
      "Writing tracks for scan 20\n",
      "Writing tracks for scan 21\n",
      "Writing tracks for scan 22\n",
      "Writing tracks for scan 23\n",
      "\n",
      "\n",
      "time elapsed 0.2 minutes\n"
     ]
    }
   ],
   "source": [
    "# The cells we're interested in look a bit small. Let's reduce the minimum size threshold.\n",
    "tracks_obj.params['MIN_SIZE'] = 4\n",
    "# We'll give the generator of grids we made earlier to the get_tracks method of our tracks object.\n",
    "tracks_obj.get_tracks(grids)"
   ]
  },
  {
   "cell_type": "code",
   "execution_count": 8,
   "metadata": {},
   "outputs": [
    {
     "data": {
      "text/html": [
       "<div>\n",
       "<style scoped>\n",
       "    .dataframe tbody tr th:only-of-type {\n",
       "        vertical-align: middle;\n",
       "    }\n",
       "\n",
       "    .dataframe tbody tr th {\n",
       "        vertical-align: top;\n",
       "    }\n",
       "\n",
       "    .dataframe thead th {\n",
       "        text-align: right;\n",
       "    }\n",
       "</style>\n",
       "<table border=\"1\" class=\"dataframe\">\n",
       "  <thead>\n",
       "    <tr style=\"text-align: right;\">\n",
       "      <th></th>\n",
       "      <th></th>\n",
       "      <th>time</th>\n",
       "      <th>grid_x</th>\n",
       "      <th>grid_y</th>\n",
       "      <th>lon</th>\n",
       "      <th>lat</th>\n",
       "      <th>area</th>\n",
       "      <th>vol</th>\n",
       "      <th>max</th>\n",
       "      <th>max_alt</th>\n",
       "      <th>isolated</th>\n",
       "    </tr>\n",
       "    <tr>\n",
       "      <th>scan</th>\n",
       "      <th>uid</th>\n",
       "      <th></th>\n",
       "      <th></th>\n",
       "      <th></th>\n",
       "      <th></th>\n",
       "      <th></th>\n",
       "      <th></th>\n",
       "      <th></th>\n",
       "      <th></th>\n",
       "      <th></th>\n",
       "      <th></th>\n",
       "    </tr>\n",
       "  </thead>\n",
       "  <tbody>\n",
       "    <tr>\n",
       "      <th>3</th>\n",
       "      <th>0</th>\n",
       "      <td>2002-02-06 04:05:40.696</td>\n",
       "      <td>45.738</td>\n",
       "      <td>397.357</td>\n",
       "      <td>0.2068</td>\n",
       "      <td>-0.0135</td>\n",
       "      <td>10.50</td>\n",
       "      <td>6.500</td>\n",
       "      <td>24.511511</td>\n",
       "      <td>1.5</td>\n",
       "      <td>False</td>\n",
       "    </tr>\n",
       "    <tr>\n",
       "      <th rowspan=\"3\" valign=\"top\">5</th>\n",
       "      <th>1</th>\n",
       "      <td>2002-02-06 04:25:24.637</td>\n",
       "      <td>60.985</td>\n",
       "      <td>388.398</td>\n",
       "      <td>0.2743</td>\n",
       "      <td>-0.0540</td>\n",
       "      <td>50.25</td>\n",
       "      <td>25.375</td>\n",
       "      <td>27.501650</td>\n",
       "      <td>1.5</td>\n",
       "      <td>False</td>\n",
       "    </tr>\n",
       "    <tr>\n",
       "      <th>2</th>\n",
       "      <td>2002-02-06 04:25:24.637</td>\n",
       "      <td>49.400</td>\n",
       "      <td>393.775</td>\n",
       "      <td>0.2203</td>\n",
       "      <td>-0.0270</td>\n",
       "      <td>10.00</td>\n",
       "      <td>5.250</td>\n",
       "      <td>24.374195</td>\n",
       "      <td>1.0</td>\n",
       "      <td>False</td>\n",
       "    </tr>\n",
       "    <tr>\n",
       "      <th>3</th>\n",
       "      <td>2002-02-06 04:25:24.637</td>\n",
       "      <td>28.471</td>\n",
       "      <td>395.118</td>\n",
       "      <td>0.1259</td>\n",
       "      <td>-0.0225</td>\n",
       "      <td>4.25</td>\n",
       "      <td>2.125</td>\n",
       "      <td>22.227459</td>\n",
       "      <td>1.0</td>\n",
       "      <td>False</td>\n",
       "    </tr>\n",
       "    <tr>\n",
       "      <th rowspan=\"4\" valign=\"top\">6</th>\n",
       "      <th>1</th>\n",
       "      <td>2002-02-06 04:35:16.558</td>\n",
       "      <td>72.165</td>\n",
       "      <td>376.975</td>\n",
       "      <td>0.3238</td>\n",
       "      <td>-0.1034</td>\n",
       "      <td>30.25</td>\n",
       "      <td>17.250</td>\n",
       "      <td>24.688965</td>\n",
       "      <td>1.5</td>\n",
       "      <td>False</td>\n",
       "    </tr>\n",
       "    <tr>\n",
       "      <th>3</th>\n",
       "      <td>2002-02-06 04:35:16.558</td>\n",
       "      <td>45.932</td>\n",
       "      <td>386.114</td>\n",
       "      <td>0.2068</td>\n",
       "      <td>-0.0630</td>\n",
       "      <td>11.00</td>\n",
       "      <td>5.750</td>\n",
       "      <td>25.437498</td>\n",
       "      <td>1.0</td>\n",
       "      <td>False</td>\n",
       "    </tr>\n",
       "    <tr>\n",
       "      <th>4</th>\n",
       "      <td>2002-02-06 04:35:16.558</td>\n",
       "      <td>127.852</td>\n",
       "      <td>386.074</td>\n",
       "      <td>0.5756</td>\n",
       "      <td>-0.0630</td>\n",
       "      <td>13.50</td>\n",
       "      <td>12.875</td>\n",
       "      <td>25.274424</td>\n",
       "      <td>1.0</td>\n",
       "      <td>False</td>\n",
       "    </tr>\n",
       "    <tr>\n",
       "      <th>5</th>\n",
       "      <td>2002-02-06 04:35:16.558</td>\n",
       "      <td>29.487</td>\n",
       "      <td>394.410</td>\n",
       "      <td>0.1304</td>\n",
       "      <td>-0.0270</td>\n",
       "      <td>29.25</td>\n",
       "      <td>15.500</td>\n",
       "      <td>28.999132</td>\n",
       "      <td>1.5</td>\n",
       "      <td>False</td>\n",
       "    </tr>\n",
       "    <tr>\n",
       "      <th rowspan=\"5\" valign=\"top\">7</th>\n",
       "      <th>1</th>\n",
       "      <td>2002-02-06 04:45:08.481</td>\n",
       "      <td>87.500</td>\n",
       "      <td>359.500</td>\n",
       "      <td>0.3957</td>\n",
       "      <td>-0.1799</td>\n",
       "      <td>4.50</td>\n",
       "      <td>3.000</td>\n",
       "      <td>22.453444</td>\n",
       "      <td>1.5</td>\n",
       "      <td>False</td>\n",
       "    </tr>\n",
       "    <tr>\n",
       "      <th>4</th>\n",
       "      <td>2002-02-06 04:45:08.481</td>\n",
       "      <td>146.038</td>\n",
       "      <td>374.962</td>\n",
       "      <td>0.6565</td>\n",
       "      <td>-0.1124</td>\n",
       "      <td>13.25</td>\n",
       "      <td>16.750</td>\n",
       "      <td>24.967340</td>\n",
       "      <td>1.5</td>\n",
       "      <td>True</td>\n",
       "    </tr>\n",
       "    <tr>\n",
       "      <th>5</th>\n",
       "      <td>2002-02-06 04:45:08.481</td>\n",
       "      <td>36.025</td>\n",
       "      <td>390.122</td>\n",
       "      <td>0.1619</td>\n",
       "      <td>-0.0450</td>\n",
       "      <td>69.50</td>\n",
       "      <td>41.375</td>\n",
       "      <td>29.562500</td>\n",
       "      <td>1.5</td>\n",
       "      <td>False</td>\n",
       "    </tr>\n",
       "    <tr>\n",
       "      <th>6</th>\n",
       "      <td>2002-02-06 04:45:08.481</td>\n",
       "      <td>67.783</td>\n",
       "      <td>398.174</td>\n",
       "      <td>0.3058</td>\n",
       "      <td>-0.0090</td>\n",
       "      <td>5.75</td>\n",
       "      <td>2.875</td>\n",
       "      <td>22.790112</td>\n",
       "      <td>1.0</td>\n",
       "      <td>False</td>\n",
       "    </tr>\n",
       "    <tr>\n",
       "      <th>7</th>\n",
       "      <td>2002-02-06 04:45:08.481</td>\n",
       "      <td>95.870</td>\n",
       "      <td>398.000</td>\n",
       "      <td>0.4317</td>\n",
       "      <td>-0.0090</td>\n",
       "      <td>5.75</td>\n",
       "      <td>3.375</td>\n",
       "      <td>22.293774</td>\n",
       "      <td>1.0</td>\n",
       "      <td>False</td>\n",
       "    </tr>\n",
       "    <tr>\n",
       "      <th rowspan=\"4\" valign=\"top\">8</th>\n",
       "      <th>4</th>\n",
       "      <td>2002-02-06 04:55:00.402</td>\n",
       "      <td>163.120</td>\n",
       "      <td>363.680</td>\n",
       "      <td>0.7329</td>\n",
       "      <td>-0.1619</td>\n",
       "      <td>12.50</td>\n",
       "      <td>16.125</td>\n",
       "      <td>23.937500</td>\n",
       "      <td>1.5</td>\n",
       "      <td>True</td>\n",
       "    </tr>\n",
       "    <tr>\n",
       "      <th>8</th>\n",
       "      <td>2002-02-06 04:55:00.402</td>\n",
       "      <td>55.747</td>\n",
       "      <td>369.823</td>\n",
       "      <td>0.2518</td>\n",
       "      <td>-0.1349</td>\n",
       "      <td>19.75</td>\n",
       "      <td>10.625</td>\n",
       "      <td>26.405264</td>\n",
       "      <td>1.5</td>\n",
       "      <td>False</td>\n",
       "    </tr>\n",
       "    <tr>\n",
       "      <th>5</th>\n",
       "      <td>2002-02-06 04:55:00.402</td>\n",
       "      <td>35.458</td>\n",
       "      <td>389.740</td>\n",
       "      <td>0.1574</td>\n",
       "      <td>-0.0450</td>\n",
       "      <td>98.25</td>\n",
       "      <td>64.375</td>\n",
       "      <td>30.394611</td>\n",
       "      <td>1.5</td>\n",
       "      <td>False</td>\n",
       "    </tr>\n",
       "    <tr>\n",
       "      <th>9</th>\n",
       "      <td>2002-02-06 04:55:00.402</td>\n",
       "      <td>122.500</td>\n",
       "      <td>384.125</td>\n",
       "      <td>0.5486</td>\n",
       "      <td>-0.0719</td>\n",
       "      <td>4.00</td>\n",
       "      <td>4.000</td>\n",
       "      <td>21.000000</td>\n",
       "      <td>1.0</td>\n",
       "      <td>False</td>\n",
       "    </tr>\n",
       "    <tr>\n",
       "      <th rowspan=\"3\" valign=\"top\">9</th>\n",
       "      <th>10</th>\n",
       "      <td>2002-02-06 05:04:52.573</td>\n",
       "      <td>113.381</td>\n",
       "      <td>347.571</td>\n",
       "      <td>0.5081</td>\n",
       "      <td>-0.2338</td>\n",
       "      <td>5.25</td>\n",
       "      <td>5.125</td>\n",
       "      <td>23.628693</td>\n",
       "      <td>1.0</td>\n",
       "      <td>False</td>\n",
       "    </tr>\n",
       "    <tr>\n",
       "      <th>8</th>\n",
       "      <td>2002-02-06 05:04:52.573</td>\n",
       "      <td>59.741</td>\n",
       "      <td>366.704</td>\n",
       "      <td>0.2698</td>\n",
       "      <td>-0.1484</td>\n",
       "      <td>33.75</td>\n",
       "      <td>18.250</td>\n",
       "      <td>26.375578</td>\n",
       "      <td>1.5</td>\n",
       "      <td>False</td>\n",
       "    </tr>\n",
       "    <tr>\n",
       "      <th>5</th>\n",
       "      <td>2002-02-06 05:04:52.573</td>\n",
       "      <td>34.725</td>\n",
       "      <td>388.599</td>\n",
       "      <td>0.1574</td>\n",
       "      <td>-0.0495</td>\n",
       "      <td>121.00</td>\n",
       "      <td>79.625</td>\n",
       "      <td>31.681791</td>\n",
       "      <td>1.5</td>\n",
       "      <td>False</td>\n",
       "    </tr>\n",
       "  </tbody>\n",
       "</table>\n",
       "</div>"
      ],
      "text/plain": [
       "                            time   grid_x   grid_y     lon     lat    area  \\\n",
       "scan uid                                                                     \n",
       "3    0   2002-02-06 04:05:40.696   45.738  397.357  0.2068 -0.0135   10.50   \n",
       "5    1   2002-02-06 04:25:24.637   60.985  388.398  0.2743 -0.0540   50.25   \n",
       "     2   2002-02-06 04:25:24.637   49.400  393.775  0.2203 -0.0270   10.00   \n",
       "     3   2002-02-06 04:25:24.637   28.471  395.118  0.1259 -0.0225    4.25   \n",
       "6    1   2002-02-06 04:35:16.558   72.165  376.975  0.3238 -0.1034   30.25   \n",
       "     3   2002-02-06 04:35:16.558   45.932  386.114  0.2068 -0.0630   11.00   \n",
       "     4   2002-02-06 04:35:16.558  127.852  386.074  0.5756 -0.0630   13.50   \n",
       "     5   2002-02-06 04:35:16.558   29.487  394.410  0.1304 -0.0270   29.25   \n",
       "7    1   2002-02-06 04:45:08.481   87.500  359.500  0.3957 -0.1799    4.50   \n",
       "     4   2002-02-06 04:45:08.481  146.038  374.962  0.6565 -0.1124   13.25   \n",
       "     5   2002-02-06 04:45:08.481   36.025  390.122  0.1619 -0.0450   69.50   \n",
       "     6   2002-02-06 04:45:08.481   67.783  398.174  0.3058 -0.0090    5.75   \n",
       "     7   2002-02-06 04:45:08.481   95.870  398.000  0.4317 -0.0090    5.75   \n",
       "8    4   2002-02-06 04:55:00.402  163.120  363.680  0.7329 -0.1619   12.50   \n",
       "     8   2002-02-06 04:55:00.402   55.747  369.823  0.2518 -0.1349   19.75   \n",
       "     5   2002-02-06 04:55:00.402   35.458  389.740  0.1574 -0.0450   98.25   \n",
       "     9   2002-02-06 04:55:00.402  122.500  384.125  0.5486 -0.0719    4.00   \n",
       "9    10  2002-02-06 05:04:52.573  113.381  347.571  0.5081 -0.2338    5.25   \n",
       "     8   2002-02-06 05:04:52.573   59.741  366.704  0.2698 -0.1484   33.75   \n",
       "     5   2002-02-06 05:04:52.573   34.725  388.599  0.1574 -0.0495  121.00   \n",
       "\n",
       "             vol        max  max_alt  isolated  \n",
       "scan uid                                        \n",
       "3    0     6.500  24.511511      1.5     False  \n",
       "5    1    25.375  27.501650      1.5     False  \n",
       "     2     5.250  24.374195      1.0     False  \n",
       "     3     2.125  22.227459      1.0     False  \n",
       "6    1    17.250  24.688965      1.5     False  \n",
       "     3     5.750  25.437498      1.0     False  \n",
       "     4    12.875  25.274424      1.0     False  \n",
       "     5    15.500  28.999132      1.5     False  \n",
       "7    1     3.000  22.453444      1.5     False  \n",
       "     4    16.750  24.967340      1.5      True  \n",
       "     5    41.375  29.562500      1.5     False  \n",
       "     6     2.875  22.790112      1.0     False  \n",
       "     7     3.375  22.293774      1.0     False  \n",
       "8    4    16.125  23.937500      1.5      True  \n",
       "     8    10.625  26.405264      1.5     False  \n",
       "     5    64.375  30.394611      1.5     False  \n",
       "     9     4.000  21.000000      1.0     False  \n",
       "9    10    5.125  23.628693      1.0     False  \n",
       "     8    18.250  26.375578      1.5     False  \n",
       "     5    79.625  31.681791      1.5     False  "
      ]
     },
     "execution_count": 8,
     "metadata": {},
     "output_type": "execute_result"
    }
   ],
   "source": [
    "# Now we can view the 'tracks' attribute of our tracks object to see the results.\n",
    "tracks_obj.tracks.head(20)"
   ]
  },
  {
   "cell_type": "markdown",
   "metadata": {},
   "source": [
    "## 4. VISUALIZE"
   ]
  },
  {
   "cell_type": "code",
   "execution_count": 9,
   "metadata": {},
   "outputs": [],
   "source": [
    "# We can visualize these tracks to assess the performance of the algorithm.\n",
    "# First we need to make another generator of the same grids for the animator\n",
    "grids = (pyart.io.read_grid(fn) for fn in filenames)"
   ]
  },
  {
   "cell_type": "code",
   "execution_count": 10,
   "metadata": {
    "scrolled": true
   },
   "outputs": [
    {
     "name": "stdout",
     "output_type": "stream",
     "text": [
      "Animating 24 frames\n",
      "Frame: 0\n",
      "Frame: 1\n",
      "Frame: 2\n",
      "Frame: 3\n",
      "Frame: 4\n",
      "Frame: 5\n",
      "Frame: 6\n",
      "Frame: 7\n",
      "Frame: 8\n",
      "Frame: 9\n",
      "Frame: 10\n",
      "Frame: 11\n",
      "Frame: 12\n",
      "Frame: 13\n",
      "Frame: 14\n",
      "Frame: 15\n",
      "Frame: 16\n",
      "Frame: 17\n",
      "Frame: 18\n",
      "Frame: 19\n",
      "Frame: 20\n",
      "Frame: 21\n",
      "Frame: 22\n",
      "Frame: 23\n",
      "Make sure ffmpeg is installed properly.\n"
     ]
    },
    {
     "ename": "PermissionError",
     "evalue": "[WinError 32] The process cannot access the file because it is being used by another process: 'C:\\\\Users\\\\COEFAM~1\\\\AppData\\\\Local\\\\Temp\\\\tmpybzipasb'",
     "output_type": "error",
     "traceback": [
      "\u001b[1;31m---------------------------------------------------------------------------\u001b[0m",
      "\u001b[1;31mPermissionError\u001b[0m                           Traceback (most recent call last)",
      "\u001b[1;32m<ipython-input-10-4224afd030da>\u001b[0m in \u001b[0;36m<module>\u001b[1;34m\u001b[0m\n\u001b[0;32m      3\u001b[0m         \u001b[0mlat_lines\u001b[0m\u001b[1;33m=\u001b[0m\u001b[0mnp\u001b[0m\u001b[1;33m.\u001b[0m\u001b[0marange\u001b[0m\u001b[1;33m(\u001b[0m\u001b[1;36m41\u001b[0m\u001b[1;33m,\u001b[0m\u001b[1;36m45\u001b[0m\u001b[1;33m,\u001b[0m \u001b[1;36m.5\u001b[0m\u001b[1;33m)\u001b[0m\u001b[1;33m,\u001b[0m\u001b[1;33m\u001b[0m\u001b[1;33m\u001b[0m\u001b[0m\n\u001b[0;32m      4\u001b[0m         \u001b[0mlon_lines\u001b[0m\u001b[1;33m=\u001b[0m\u001b[0mnp\u001b[0m\u001b[1;33m.\u001b[0m\u001b[0marange\u001b[0m\u001b[1;33m(\u001b[0m\u001b[1;33m-\u001b[0m\u001b[1;36m75\u001b[0m\u001b[1;33m,\u001b[0m \u001b[1;33m-\u001b[0m\u001b[1;36m68\u001b[0m\u001b[1;33m,\u001b[0m \u001b[1;36m.5\u001b[0m\u001b[1;33m)\u001b[0m\u001b[1;33m,\u001b[0m\u001b[1;33m\u001b[0m\u001b[1;33m\u001b[0m\u001b[0m\n\u001b[1;32m----> 5\u001b[1;33m         tracers=True)\n\u001b[0m",
      "\u001b[1;32mc:\\users\\coefamily\\.conda\\envs\\meteorology\\lib\\site-packages\\tint\\visualization.py\u001b[0m in \u001b[0;36manimate\u001b[1;34m(tobj, grids, outfile_name, style, fps, keep_frames, overwrite, **kwargs)\u001b[0m\n\u001b[0;32m    330\u001b[0m             \u001b[0mos\u001b[0m\u001b[1;33m.\u001b[0m\u001b[0mchdir\u001b[0m\u001b[1;33m(\u001b[0m\u001b[0mdest_dir\u001b[0m\u001b[1;33m)\u001b[0m\u001b[1;33m\u001b[0m\u001b[1;33m\u001b[0m\u001b[0m\n\u001b[0;32m    331\u001b[0m     \u001b[1;32mfinally\u001b[0m\u001b[1;33m:\u001b[0m\u001b[1;33m\u001b[0m\u001b[1;33m\u001b[0m\u001b[0m\n\u001b[1;32m--> 332\u001b[1;33m         \u001b[0mshutil\u001b[0m\u001b[1;33m.\u001b[0m\u001b[0mrmtree\u001b[0m\u001b[1;33m(\u001b[0m\u001b[0mtmp_dir\u001b[0m\u001b[1;33m)\u001b[0m\u001b[1;33m\u001b[0m\u001b[1;33m\u001b[0m\u001b[0m\n\u001b[0m\u001b[0;32m    333\u001b[0m \u001b[1;33m\u001b[0m\u001b[0m\n\u001b[0;32m    334\u001b[0m \u001b[1;33m\u001b[0m\u001b[0m\n",
      "\u001b[1;32mc:\\users\\coefamily\\.conda\\envs\\meteorology\\lib\\shutil.py\u001b[0m in \u001b[0;36mrmtree\u001b[1;34m(path, ignore_errors, onerror)\u001b[0m\n\u001b[0;32m    498\u001b[0m             \u001b[0mos\u001b[0m\u001b[1;33m.\u001b[0m\u001b[0mclose\u001b[0m\u001b[1;33m(\u001b[0m\u001b[0mfd\u001b[0m\u001b[1;33m)\u001b[0m\u001b[1;33m\u001b[0m\u001b[1;33m\u001b[0m\u001b[0m\n\u001b[0;32m    499\u001b[0m     \u001b[1;32melse\u001b[0m\u001b[1;33m:\u001b[0m\u001b[1;33m\u001b[0m\u001b[1;33m\u001b[0m\u001b[0m\n\u001b[1;32m--> 500\u001b[1;33m         \u001b[1;32mreturn\u001b[0m \u001b[0m_rmtree_unsafe\u001b[0m\u001b[1;33m(\u001b[0m\u001b[0mpath\u001b[0m\u001b[1;33m,\u001b[0m \u001b[0monerror\u001b[0m\u001b[1;33m)\u001b[0m\u001b[1;33m\u001b[0m\u001b[1;33m\u001b[0m\u001b[0m\n\u001b[0m\u001b[0;32m    501\u001b[0m \u001b[1;33m\u001b[0m\u001b[0m\n\u001b[0;32m    502\u001b[0m \u001b[1;31m# Allow introspection of whether or not the hardening against symlink\u001b[0m\u001b[1;33m\u001b[0m\u001b[1;33m\u001b[0m\u001b[1;33m\u001b[0m\u001b[0m\n",
      "\u001b[1;32mc:\\users\\coefamily\\.conda\\envs\\meteorology\\lib\\shutil.py\u001b[0m in \u001b[0;36m_rmtree_unsafe\u001b[1;34m(path, onerror)\u001b[0m\n\u001b[0;32m    397\u001b[0m         \u001b[0mos\u001b[0m\u001b[1;33m.\u001b[0m\u001b[0mrmdir\u001b[0m\u001b[1;33m(\u001b[0m\u001b[0mpath\u001b[0m\u001b[1;33m)\u001b[0m\u001b[1;33m\u001b[0m\u001b[1;33m\u001b[0m\u001b[0m\n\u001b[0;32m    398\u001b[0m     \u001b[1;32mexcept\u001b[0m \u001b[0mOSError\u001b[0m\u001b[1;33m:\u001b[0m\u001b[1;33m\u001b[0m\u001b[1;33m\u001b[0m\u001b[0m\n\u001b[1;32m--> 399\u001b[1;33m         \u001b[0monerror\u001b[0m\u001b[1;33m(\u001b[0m\u001b[0mos\u001b[0m\u001b[1;33m.\u001b[0m\u001b[0mrmdir\u001b[0m\u001b[1;33m,\u001b[0m \u001b[0mpath\u001b[0m\u001b[1;33m,\u001b[0m \u001b[0msys\u001b[0m\u001b[1;33m.\u001b[0m\u001b[0mexc_info\u001b[0m\u001b[1;33m(\u001b[0m\u001b[1;33m)\u001b[0m\u001b[1;33m)\u001b[0m\u001b[1;33m\u001b[0m\u001b[1;33m\u001b[0m\u001b[0m\n\u001b[0m\u001b[0;32m    400\u001b[0m \u001b[1;33m\u001b[0m\u001b[0m\n\u001b[0;32m    401\u001b[0m \u001b[1;31m# Version using fd-based APIs to protect against races\u001b[0m\u001b[1;33m\u001b[0m\u001b[1;33m\u001b[0m\u001b[1;33m\u001b[0m\u001b[0m\n",
      "\u001b[1;32mc:\\users\\coefamily\\.conda\\envs\\meteorology\\lib\\shutil.py\u001b[0m in \u001b[0;36m_rmtree_unsafe\u001b[1;34m(path, onerror)\u001b[0m\n\u001b[0;32m    395\u001b[0m                 \u001b[0monerror\u001b[0m\u001b[1;33m(\u001b[0m\u001b[0mos\u001b[0m\u001b[1;33m.\u001b[0m\u001b[0munlink\u001b[0m\u001b[1;33m,\u001b[0m \u001b[0mfullname\u001b[0m\u001b[1;33m,\u001b[0m \u001b[0msys\u001b[0m\u001b[1;33m.\u001b[0m\u001b[0mexc_info\u001b[0m\u001b[1;33m(\u001b[0m\u001b[1;33m)\u001b[0m\u001b[1;33m)\u001b[0m\u001b[1;33m\u001b[0m\u001b[1;33m\u001b[0m\u001b[0m\n\u001b[0;32m    396\u001b[0m     \u001b[1;32mtry\u001b[0m\u001b[1;33m:\u001b[0m\u001b[1;33m\u001b[0m\u001b[1;33m\u001b[0m\u001b[0m\n\u001b[1;32m--> 397\u001b[1;33m         \u001b[0mos\u001b[0m\u001b[1;33m.\u001b[0m\u001b[0mrmdir\u001b[0m\u001b[1;33m(\u001b[0m\u001b[0mpath\u001b[0m\u001b[1;33m)\u001b[0m\u001b[1;33m\u001b[0m\u001b[1;33m\u001b[0m\u001b[0m\n\u001b[0m\u001b[0;32m    398\u001b[0m     \u001b[1;32mexcept\u001b[0m \u001b[0mOSError\u001b[0m\u001b[1;33m:\u001b[0m\u001b[1;33m\u001b[0m\u001b[1;33m\u001b[0m\u001b[0m\n\u001b[0;32m    399\u001b[0m         \u001b[0monerror\u001b[0m\u001b[1;33m(\u001b[0m\u001b[0mos\u001b[0m\u001b[1;33m.\u001b[0m\u001b[0mrmdir\u001b[0m\u001b[1;33m,\u001b[0m \u001b[0mpath\u001b[0m\u001b[1;33m,\u001b[0m \u001b[0msys\u001b[0m\u001b[1;33m.\u001b[0m\u001b[0mexc_info\u001b[0m\u001b[1;33m(\u001b[0m\u001b[1;33m)\u001b[0m\u001b[1;33m)\u001b[0m\u001b[1;33m\u001b[0m\u001b[1;33m\u001b[0m\u001b[0m\n",
      "\u001b[1;31mPermissionError\u001b[0m: [WinError 32] The process cannot access the file because it is being used by another process: 'C:\\\\Users\\\\COEFAM~1\\\\AppData\\\\Local\\\\Temp\\\\tmpybzipasb'"
     ]
    }
   ],
   "source": [
    "# Let's save the animation in our temp directory so that it will be cleaned up later.\n",
    "animate(tracks_obj, grids, os.path.join(tmp_dir, 'tint_demo_anim'),\n",
    "        lat_lines=np.arange(41,45, .5),\n",
    "        lon_lines=np.arange(-75, -68, .5),\n",
    "        tracers=True)"
   ]
  },
  {
   "cell_type": "code",
   "execution_count": null,
   "metadata": {},
   "outputs": [],
   "source": [
    "# The animator saved an mp4 to our local directory. Now we can embed it as a gif in this notebook.\n",
    "embed_mp4_as_gif(os.path.join(tmp_dir, 'tint_demo_anim.mp4'))"
   ]
  },
  {
   "cell_type": "code",
   "execution_count": null,
   "metadata": {},
   "outputs": [],
   "source": [
    "# Let's find the cells that were tracked for the most frames\n",
    "tracks_obj.tracks.groupby(level='uid').size().sort_values(ascending=False)[:5]"
   ]
  },
  {
   "cell_type": "code",
   "execution_count": null,
   "metadata": {},
   "outputs": [],
   "source": [
    "# Now we can view these cells from a lagrangian perspective\n",
    "grids = (pyart.io.read_grid(fn) for fn in filenames)  # refresh grid generator\n",
    "animate(tracks_obj, grids, os.path.join(tmp_dir, 'tint_demo_lagrangian'), style='lagrangian', uid='0', alt=2000)"
   ]
  },
  {
   "cell_type": "code",
   "execution_count": null,
   "metadata": {
    "scrolled": false
   },
   "outputs": [],
   "source": [
    "embed_mp4_as_gif(os.path.join(tmp_dir, 'tint_demo_lagrangian.mp4'))"
   ]
  },
  {
   "cell_type": "code",
   "execution_count": null,
   "metadata": {},
   "outputs": [],
   "source": [
    "# We can view the attributes of this cell throughout its lifetime\n",
    "tracks_obj.tracks.xs('0', level='uid')"
   ]
  },
  {
   "cell_type": "markdown",
   "metadata": {},
   "source": [
    "## Clean Up"
   ]
  },
  {
   "cell_type": "code",
   "execution_count": null,
   "metadata": {},
   "outputs": [],
   "source": [
    "# Now we can delete the directory containing all the data and output from this demo.\n",
    "shutil.rmtree(tmp_dir)\n",
    "print('temporary directory removed')"
   ]
  }
 ],
 "metadata": {
  "anaconda-cloud": {},
  "kernelspec": {
   "display_name": "Python 3",
   "language": "python",
   "name": "python3"
  },
  "language_info": {
   "codemirror_mode": {
    "name": "ipython",
    "version": 3
   },
   "file_extension": ".py",
   "mimetype": "text/x-python",
   "name": "python",
   "nbconvert_exporter": "python",
   "pygments_lexer": "ipython3",
   "version": "3.6.8"
  }
 },
 "nbformat": 4,
 "nbformat_minor": 1
}
