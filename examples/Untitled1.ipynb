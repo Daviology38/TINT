{
 "cells": [
  {
   "cell_type": "code",
   "execution_count": 2,
   "metadata": {},
   "outputs": [],
   "source": [
    "from boto.s3.connection import S3Connection\n",
    "import pyart\n",
    "import gzip\n",
    "from matplotlib import pyplot as plt\n",
    "import shutil, os\n",
    "from datetime import timedelta, datetime\n",
    "import numpy as np\n",
    "import tempfile\n",
    "import cartopy.crs as ccrs\n",
    "%matplotlib inline"
   ]
  },
  {
   "cell_type": "code",
   "execution_count": 3,
   "metadata": {},
   "outputs": [],
   "source": [
    "def nearestDate(dates, pivot):\n",
    "    return min(dates, key=lambda x: abs(x - pivot))\n",
    "\n",
    "\n",
    "def get_radar_from_aws(site, datetime_t):\n",
    "    \"\"\"\n",
    "    Get the closest volume of NEXRAD data to a particular datetime.\n",
    "    Parameters\n",
    "    ----------\n",
    "    site : string\n",
    "        four letter radar designation \n",
    "    datetime_t : datetime\n",
    "        desired date time\n",
    "    \"\"\"\n",
    "    \n",
    "    #First create the query string for the bucket knowing\n",
    "    #how NOAA and AWS store the data\n",
    "    \n",
    "    my_pref = datetime_t.strftime('%Y/%m/%d/') + site\n",
    "    \n",
    "    #Connect to the bucket\n",
    "    \n",
    "    conn = S3Connection(anon = True)\n",
    "    bucket = conn.get_bucket('noaa-nexrad-level2')\n",
    "    \n",
    "    #Get a list of files \n",
    "    \n",
    "    bucket_list = list(bucket.list(prefix = my_pref))\n",
    "    #print(bucket_list)\n",
    "    #we are going to create a list of keys and datetimes to allow easy searching\n",
    "    \n",
    "    keys = []\n",
    "    datetimes = []\n",
    "    \n",
    "    #populate the list\n",
    "\n",
    "    for i in range(len(bucket_list)):\n",
    "        this_str = str(bucket_list[i].key)\n",
    "        if 'gz' in this_str:\n",
    "            endme = this_str[-18:-3]\n",
    "            fmt = '%Y%m%d_%H%M%S' \n",
    "            dt = datetime.strptime(endme, fmt)\n",
    "            datetimes.append(dt)\n",
    "            keys.append(bucket_list[i])\n",
    "            #print(dt)\n",
    "        if this_str[-3::] == 'V06': #'LSX20160707_000150_' does not match format '%Y%m%d_%H%M%S_V06'\n",
    "            #print(this_str)\n",
    "            #print(this_str[-19::])\n",
    "            endme = this_str[-19::]\n",
    "            fmt = '%Y%m%d_%H%M%S' \n",
    "            dt = datetime.strptime(endme, fmt)\n",
    "            datetimes.append(dt)\n",
    "            keys.append(bucket_list[i])\n",
    "    \n",
    "    #function to allow easy searching \n",
    "    \n",
    "    def func(x):\n",
    "        delta =  x - datetime_t if x > datetime_t else timedelta.max\n",
    "        return delta\n",
    "    \n",
    "    #find the closest available radar to your datetime \n",
    "    \n",
    "    closest_datetime = nearestDate(datetimes, datetime_t)\n",
    "    index = datetimes.index(closest_datetime)\n",
    "    #print(closest_datetime)\n",
    "    #create a temp file, download radar data to file from S3\n",
    "    #read into a radar object and return\n",
    "    \n",
    "    localfile = tempfile.NamedTemporaryFile()\n",
    "    keys[index].get_contents_to_filename(localfile.name)\n",
    "    radar = pyart.io.read(localfile.name)\n",
    "    return radar"
   ]
  },
  {
   "cell_type": "code",
   "execution_count": 4,
   "metadata": {},
   "outputs": [
    {
     "name": "stderr",
     "output_type": "stream",
     "text": [
      "/home/mariofire/anaconda3/envs/meteorology/lib/python3.6/site-packages/pyart/io/nexrad_level2.py:169: UserWarning: No MSG5 detected. Setting to meaningless data. Rethink your life choices and be ready for errors.Specifically fixed angle data will be missing\n",
      "  warnings.warn(\"No MSG5 detected. Setting to meaningless data. \"\n",
      "/home/mariofire/anaconda3/envs/meteorology/lib/python3.6/site-packages/pyart/io/nexrad_archive.py:209: UserWarning: Gate spacing is not constant, interpolating data in scans [0, 2, 4, 5, 6, 7, 8, 9, 10] for moment REF.\n",
      "  UserWarning)\n",
      "/home/mariofire/anaconda3/envs/meteorology/lib/python3.6/site-packages/pyart/graph/radarmapdisplay.py:258: UserWarning: No projection was defined for the axes. Overridding defined axes and using default axes.\n",
      "  + \"axes.\", UserWarning)\n"
     ]
    },
    {
     "data": {
      "image/png": "[encoded data removed]",
      "text/plain": [
       "<Figure size 432x432 with 2 Axes>"
      ]
     },
     "metadata": {
      "needs_background": "light"
     },
     "output_type": "display_data"
    }
   ],
   "source": [
    "import numpy as np\n",
    "import matplotlib.pyplot as plt\n",
    "import cartopy.crs as ccrs\n",
    "import pyart\n",
    "b_d = datetime(1999,12,24,3,0,0) #datetime.strptime(base_date, fmt)\n",
    "\n",
    "radar = get_radar_from_aws('KOKX',b_d )\n",
    "# Read in the file, create a RadarMapDisplay object\n",
    "#filename = 'nsaxsaprppiC1.a1.20140201.184802.nc'\n",
    "#radar = pyart.io.read(my_radar)\n",
    "display = pyart.graph.RadarMapDisplay(radar)\n",
    "loc = pyart.io.nexrad_common.get_nexrad_location('KOKX')\n",
    "lon0 = loc[1] ; lat0 = loc[0]\n",
    "radar.longitude['data'][0] = lon0\n",
    "radar.latitude['data'][0] = lat0\n",
    "radar.range['data'] = radar.range['data']+2500\n",
    "radar.init_gate_altitude()\n",
    "radar.init_gate_longitude_latitude()\n",
    "\n",
    "# Setting projection and ploting the second tilt\n",
    "projection = ccrs.LambertConformal(central_latitude=radar.latitude['data'][0],\n",
    "                                   central_longitude=radar.longitude['data'][0])\n",
    "\n",
    "fig = plt.figure(figsize=(6,6))\n",
    "display.plot_ppi_map('reflectivity', sweep=1,\n",
    "                     min_lon=-78, max_lon=-65, min_lat=40, max_lat=45,\n",
    "                     lon_lines=np.arange(-78, -65, 2),\n",
    "                     lat_lines=np.arange(40, 45, 1), \n",
    "                     fig=fig, lat_0=radar.latitude['data'][0],\n",
    "                     lon_0=radar.longitude['data'][0])\n",
    "\n",
    "# Plot range rings at 10, 20, 30, 40km\n",
    "display.plot_range_ring(10., line_style='k-')\n",
    "display.plot_range_ring(20., line_style='k--')\n",
    "display.plot_range_ring(30., line_style='k-')\n",
    "display.plot_range_ring(40., line_style='k--')\n",
    "\n",
    "# Plot cross hairs\n",
    "display.plot_line_xy(np.array([-40000.0, 40000.0]), np.array([0.0, 0.0]),\n",
    "                     line_style='k-')\n",
    "display.plot_line_xy(np.array([0.0, 0.0]), np.array([-20000.0, 200000.0]),\n",
    "                     line_style='k-')\n",
    "\n",
    "# Indicate the radar location with a point\n",
    "display.plot_point(radar.longitude['data'][0], radar.latitude['data'][0])\n",
    "fig.gca().set_visible(False)\n",
    "plt.show()"
   ]
  },
  {
   "cell_type": "code",
   "execution_count": 4,
   "metadata": {},
   "outputs": [
    {
     "data": {
      "text/plain": [
       "{'units': 'meters',\n",
       " 'standard_name': 'projection_range_coordinate',\n",
       " 'long_name': 'range_to_measurement_volume',\n",
       " 'axis': 'radial_range_coordinate',\n",
       " 'spacing_is_constant': 'true',\n",
       " 'comment': 'Coordinate variable for range. Range to center of each bin.',\n",
       " 'data': array([  2125.,   2375.,   2625., ..., 461375., 461625., 461875.],\n",
       "       dtype=float32),\n",
       " 'meters_to_center_of_first_gate': -375.0,\n",
       " 'meters_between_gates': 250.0}"
      ]
     },
     "execution_count": 4,
     "metadata": {},
     "output_type": "execute_result"
    }
   ],
   "source": [
    "radar.range"
   ]
  },
  {
   "cell_type": "code",
   "execution_count": 5,
   "metadata": {},
   "outputs": [
    {
     "data": {
      "text/plain": [
       "{'units': 'meters',\n",
       " 'standard_name': 'projection_range_coordinate',\n",
       " 'long_name': 'range_to_measurement_volume',\n",
       " 'axis': 'radial_range_coordinate',\n",
       " 'spacing_is_constant': 'true',\n",
       " 'comment': 'Coordinate variable for range. Range to center of each bin.',\n",
       " 'data': array([-3.75000e+02, -1.25000e+02,  1.25000e+02, ...,  4.58875e+05,\n",
       "         4.59125e+05,  4.59375e+05], dtype=float32),\n",
       " 'meters_to_center_of_first_gate': -375.0,\n",
       " 'meters_between_gates': 250.0}"
      ]
     },
     "execution_count": 5,
     "metadata": {},
     "output_type": "execute_result"
    }
   ],
   "source": [
    "radar.range['data'] = radar.range['data']-2500\n",
    "radar.range"
   ]
  },
  {
   "cell_type": "code",
   "execution_count": 6,
   "metadata": {},
   "outputs": [
    {
     "name": "stdout",
     "output_type": "stream",
     "text": [
      "altitude:\n",
      "\tdata: <ndarray of type: float64 and shape: (1,)>\n",
      "\tlong_name: Altitude\n",
      "\tstandard_name: Altitude\n",
      "\tunits: meters\n",
      "\tpositive: up\n",
      "altitude_agl: None\n",
      "antenna_transition: None\n",
      "azimuth:\n",
      "\tdata: <ndarray of type: float64 and shape: (4028,)>\n",
      "\tunits: degrees\n",
      "\tstandard_name: beam_azimuth_angle\n",
      "\tlong_name: azimuth_angle_from_true_north\n",
      "\taxis: radial_azimuth_coordinate\n",
      "\tcomment: Azimuth of antenna relative to true north\n",
      "elevation:\n",
      "\tdata: <ndarray of type: float32 and shape: (4028,)>\n",
      "\tunits: degrees\n",
      "\tstandard_name: beam_elevation_angle\n",
      "\tlong_name: elevation_angle_from_horizontal_plane\n",
      "\taxis: radial_elevation_coordinate\n",
      "\tcomment: Elevation of antenna relative to the horizontal plane\n",
      "fields:\n",
      "\tspectrum_width:\n",
      "\t\tdata: <ndarray of type: float32 and shape: (4028, 1840)>\n",
      "\t\tunits: meters_per_second\n",
      "\t\tstandard_name: doppler_spectrum_width\n",
      "\t\tlong_name: Spectrum Width\n",
      "\t\tvalid_max: 63.0\n",
      "\t\tvalid_min: -63.5\n",
      "\t\tcoordinates: elevation azimuth range\n",
      "\t\t_FillValue: -9999.0\n",
      "\treflectivity:\n",
      "\t\tdata: <ndarray of type: float32 and shape: (4028, 1840)>\n",
      "\t\tunits: dBZ\n",
      "\t\tstandard_name: equivalent_reflectivity_factor\n",
      "\t\tlong_name: Reflectivity\n",
      "\t\tvalid_max: 94.5\n",
      "\t\tvalid_min: -32.0\n",
      "\t\tcoordinates: elevation azimuth range\n",
      "\t\t_FillValue: -9999.0\n",
      "\tvelocity:\n",
      "\t\tdata: <ndarray of type: float32 and shape: (4028, 1840)>\n",
      "\t\tunits: meters_per_second\n",
      "\t\tstandard_name: radial_velocity_of_scatterers_away_from_instrument\n",
      "\t\tlong_name: Mean doppler Velocity\n",
      "\t\tvalid_max: 95.0\n",
      "\t\tvalid_min: -95.0\n",
      "\t\tcoordinates: elevation azimuth range\n",
      "\t\t_FillValue: -9999.0\n",
      "fixed_angle:\n",
      "\tdata: <ndarray of type: float32 and shape: (11,)>\n",
      "\tlong_name: Target angle for sweep\n",
      "\tunits: degrees\n",
      "\tstandard_name: target_fixed_angle\n",
      "instrument_parameters:\n",
      "\tunambiguous_range:\n",
      "\t\tdata: <ndarray of type: float32 and shape: (4028,)>\n",
      "\t\tunits: meters\n",
      "\t\tcomments: Unambiguous range\n",
      "\t\tmeta_group: instrument_parameters\n",
      "\t\tlong_name: Unambiguous range\n",
      "\tnyquist_velocity:\n",
      "\t\tdata: <ndarray of type: float32 and shape: (4028,)>\n",
      "\t\tunits: meters_per_second\n",
      "\t\tcomments: Unambiguous velocity\n",
      "\t\tmeta_group: instrument_parameters\n",
      "\t\tlong_name: Nyquist velocity\n",
      "latitude:\n",
      "\tdata: <ndarray of type: float64 and shape: (1,)>\n",
      "\tlong_name: Latitude\n",
      "\tstandard_name: Latitude\n",
      "\tunits: degrees_north\n",
      "longitude:\n",
      "\tdata: <ndarray of type: float64 and shape: (1,)>\n",
      "\tlong_name: Longitude\n",
      "\tstandard_name: Longitude\n",
      "\tunits: degrees_east\n",
      "nsweeps: 11\n",
      "ngates: 1840\n",
      "nrays: 4028\n",
      "radar_calibration: None\n",
      "range:\n",
      "\tdata: <ndarray of type: float32 and shape: (1840,)>\n",
      "\tunits: meters\n",
      "\tstandard_name: projection_range_coordinate\n",
      "\tlong_name: range_to_measurement_volume\n",
      "\taxis: radial_range_coordinate\n",
      "\tspacing_is_constant: true\n",
      "\tcomment: Coordinate variable for range. Range to center of each bin.\n",
      "\tmeters_to_center_of_first_gate: -375.0\n",
      "\tmeters_between_gates: 250.0\n",
      "scan_rate: None\n",
      "scan_type: ppi\n",
      "sweep_end_ray_index:\n",
      "\tdata: <ndarray of type: int32 and shape: (11,)>\n",
      "\tlong_name: Index of last ray in sweep, 0-based\n",
      "\tunits: count\n",
      "sweep_mode:\n",
      "\tdata: <ndarray of type: |S20 and shape: (11,)>\n",
      "\tunits: unitless\n",
      "\tstandard_name: sweep_mode\n",
      "\tlong_name: Sweep mode\n",
      "\tcomment: Options are: \"sector\", \"coplane\", \"rhi\", \"vertical_pointing\", \"idle\", \"azimuth_surveillance\", \"elevation_surveillance\", \"sunscan\", \"pointing\", \"manual_ppi\", \"manual_rhi\"\n",
      "sweep_number:\n",
      "\tdata: <ndarray of type: int32 and shape: (11,)>\n",
      "\tunits: count\n",
      "\tstandard_name: sweep_number\n",
      "\tlong_name: Sweep number\n",
      "sweep_start_ray_index:\n",
      "\tdata: <ndarray of type: int32 and shape: (11,)>\n",
      "\tlong_name: Index of first ray in sweep, 0-based\n",
      "\tunits: count\n",
      "target_scan_rate: None\n",
      "time:\n",
      "\tdata: <ndarray of type: float64 and shape: (4028,)>\n",
      "\tunits: seconds since 1999-12-24T02:59:53Z\n",
      "\tstandard_name: time\n",
      "\tlong_name: time_in_seconds_since_volume_start\n",
      "\tcalendar: gregorian\n",
      "\tcomment: Coordinate variable for time. Time at the center of each ray, in fractional seconds since the global variable time_coverage_start\n",
      "metadata:\n",
      "\tConventions: CF/Radial instrument_parameters\n",
      "\tversion: 1.3\n",
      "\ttitle: \n",
      "\tinstitution: \n",
      "\treferences: \n",
      "\tsource: \n",
      "\thistory: \n",
      "\tcomment: \n",
      "\tinstrument_name:     \n",
      "\toriginal_container: NEXRAD Level II\n"
     ]
    }
   ],
   "source": [
    "radar.info()"
   ]
  },
  {
   "cell_type": "code",
   "execution_count": 7,
   "metadata": {},
   "outputs": [],
   "source": [
    "from pyart.config import get_metadata"
   ]
  },
  {
   "cell_type": "code",
   "execution_count": 8,
   "metadata": {},
   "outputs": [
    {
     "data": {
      "text/plain": [
       "{'units': 'dBZ',\n",
       " 'standard_name': 'equivalent_reflectivity_factor',\n",
       " 'long_name': 'Reflectivity',\n",
       " 'coordinates': 'elevation azimuth range'}"
      ]
     },
     "execution_count": 8,
     "metadata": {},
     "output_type": "execute_result"
    }
   ],
   "source": [
    "get_metadata('reflectivity')"
   ]
  },
  {
   "cell_type": "code",
   "execution_count": 9,
   "metadata": {},
   "outputs": [
    {
     "data": {
      "text/plain": [
       "{'units': 'degrees',\n",
       " 'standard_name': 'beam_elevation_angle',\n",
       " 'long_name': 'elevation_angle_from_horizontal_plane',\n",
       " 'axis': 'radial_elevation_coordinate',\n",
       " 'comment': 'Elevation of antenna relative to the horizontal plane',\n",
       " 'data': array([ 0.48339844,  0.48339844,  0.48339844, ..., 19.511719  ,\n",
       "        19.511719  , 19.511719  ], dtype=float32)}"
      ]
     },
     "execution_count": 9,
     "metadata": {},
     "output_type": "execute_result"
    }
   ],
   "source": [
    "radar.elevation"
   ]
  },
  {
   "cell_type": "code",
   "execution_count": 10,
   "metadata": {},
   "outputs": [],
   "source": [
    "radar.init_gate_altitude()"
   ]
  },
  {
   "cell_type": "code",
   "execution_count": 11,
   "metadata": {},
   "outputs": [],
   "source": [
    "radar.init_gate_longitude_latitude()"
   ]
  },
  {
   "cell_type": "code",
   "execution_count": 12,
   "metadata": {},
   "outputs": [
    {
     "data": {
      "text/plain": [
       "<pyart.core.radar.Radar at 0x7f23cdbe7550>"
      ]
     },
     "execution_count": 12,
     "metadata": {},
     "output_type": "execute_result"
    }
   ],
   "source": [
    "radar"
   ]
  },
  {
   "cell_type": "code",
   "execution_count": 13,
   "metadata": {},
   "outputs": [
    {
     "data": {
      "text/plain": [
       "array([[40.86551853, 40.8655462 , 40.86557379, ..., 40.78798095,\n",
       "        40.7878692 , 40.7877574 ],\n",
       "       [40.86545905, 40.86552637, 40.86559361, ..., 40.86054897,\n",
       "        40.8604765 , 40.86040397],\n",
       "       [40.86540219, 40.86550742, 40.86561256, ..., 40.93000075,\n",
       "        40.92996591, 40.929931  ],\n",
       "       ...,\n",
       "       [40.86448443, 40.86520149, 40.86591849, ..., 42.05705343,\n",
       "        42.05763493, 42.0582166 ],\n",
       "       [40.86453736, 40.86521914, 40.86590084, ..., 41.99238285,\n",
       "        41.99292928, 41.99347587],\n",
       "       [40.86459061, 40.86523689, 40.86588309, ..., 41.92738974,\n",
       "        41.92790096, 41.92841233]])"
      ]
     },
     "execution_count": 13,
     "metadata": {},
     "output_type": "execute_result"
    }
   ],
   "source": [
    "radar.gate_latitude['data']"
   ]
  },
  {
   "cell_type": "code",
   "execution_count": 14,
   "metadata": {},
   "outputs": [
    {
     "data": {
      "text/plain": [
       "<pyart.core.radar.Radar at 0x7f23cdbe7550>"
      ]
     },
     "execution_count": 14,
     "metadata": {},
     "output_type": "execute_result"
    }
   ],
   "source": [
    "radar"
   ]
  },
  {
   "cell_type": "code",
   "execution_count": 15,
   "metadata": {},
   "outputs": [
    {
     "ename": "AttributeError",
     "evalue": "'Radar' object has no attribute 'init'",
     "output_type": "error",
     "traceback": [
      "\u001b[0;31m---------------------------------------------------------------------------\u001b[0m",
      "\u001b[0;31mAttributeError\u001b[0m                            Traceback (most recent call last)",
      "\u001b[0;32m<ipython-input-15-a3bbf1fed2ef>\u001b[0m in \u001b[0;36m<module>\u001b[0;34m\u001b[0m\n\u001b[0;32m----> 1\u001b[0;31m \u001b[0mradar\u001b[0m\u001b[0;34m.\u001b[0m\u001b[0minit\u001b[0m\u001b[0;34m\u001b[0m\u001b[0;34m\u001b[0m\u001b[0m\n\u001b[0m",
      "\u001b[0;31mAttributeError\u001b[0m: 'Radar' object has no attribute 'init'"
     ]
    }
   ],
   "source": [
    "radar.init"
   ]
  },
  {
   "cell_type": "code",
   "execution_count": null,
   "metadata": {},
   "outputs": [],
   "source": []
  }
 ],
 "metadata": {
  "kernelspec": {
   "display_name": "Python 3",
   "language": "python",
   "name": "python3"
  },
  "language_info": {
   "codemirror_mode": {
    "name": "ipython",
    "version": 3
   },
   "file_extension": ".py",
   "mimetype": "text/x-python",
   "name": "python",
   "nbconvert_exporter": "python",
   "pygments_lexer": "ipython3",
   "version": "3.6.10"
  }
 },
 "nbformat": 4,
 "nbformat_minor": 4
}
