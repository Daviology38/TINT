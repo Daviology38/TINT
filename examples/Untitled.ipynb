{
 "cells": [
  {
   "cell_type": "code",
   "execution_count": 2,
   "metadata": {},
   "outputs": [
    {
     "name": "stdout",
     "output_type": "stream",
     "text": [
      "['134', '135', '138', '141', '159', '161', '163', '165', '166', '169', '170', '171', '172', '173', '174', '175', '176', '177', '19', '20', '27', '32', '37', '41', '56', '57', '58', '78', '80', '81', '94', '99']\n",
      "['Composite Refl', 'Correlation Coeff', 'Diff Reflectivity', 'Digital Hybrid Scan Refl', 'Digital Inst Precip Rate', 'Digital Precip Array', 'Digital Vert Integ Liq', 'Echo Tops', 'Enhanced Echo Tops', 'Hybrid Hydrometeor Class', 'Hydrometeor Class', 'Melting Layer', 'Mesocyclone', 'One Hour Accum', 'One Hour Diff', 'One Hour Precip', 'One Hour Unbiased Accum', 'Reflectivity', 'Specific Diff Phase', 'Storm Rel Velocity', 'Storm Total Accum', 'Storm Total Diff', 'Storm Total Precip', 'Storm Track', 'User Select Accum', 'Velocity', 'Vert Integ Liq']\n"
     ]
    }
   ],
   "source": [
    "import warnings\n",
    "from awips.dataaccess import DataAccessLayer\n",
    "import matplotlib.pyplot as plt\n",
    "import cartopy.crs as ccrs\n",
    "import numpy as np\n",
    "from cartopy.mpl.gridliner import LONGITUDE_FORMATTER, LATITUDE_FORMATTER\n",
    "\n",
    "DataAccessLayer.changeEDEXHost(\"edex-cloud.unidata.ucar.edu\")\n",
    "request = DataAccessLayer.newDataRequest(\"radar\")\n",
    "available_locs = DataAccessLayer.getAvailableLocationNames(request)\n",
    "available_locs.sort()\n",
    "list(available_locs)\n",
    "request.setLocationNames(\"kmhx\")\n",
    "availableParms = DataAccessLayer.getAvailableParameters(request)\n",
    "availableParms.sort()\n",
    "#list(availableParms)\n",
    "\n",
    "productIDs = DataAccessLayer.getRadarProductIDs(availableParms)\n",
    "productNames = DataAccessLayer.getRadarProductNames(availableParms)\n",
    "print(productIDs)\n",
    "print(productNames)"
   ]
  },
  {
   "cell_type": "code",
   "execution_count": 3,
   "metadata": {},
   "outputs": [
    {
     "name": "stdout",
     "output_type": "stream",
     "text": [
      "\n",
      "Recs :  1\n",
      "No levels found for Correlation Coeff\n",
      "No levels found for Diff Reflectivity\n",
      "\n",
      "Recs :  1\n",
      "\n",
      "Recs :  1\n",
      "\n",
      "Recs :  1\n",
      "\n",
      "Recs :  1\n",
      "\n",
      "Recs :  1\n",
      "\n",
      "Recs :  1\n",
      "\n",
      "Recs :  1\n",
      "No levels found for Hydrometeor Class\n",
      "No levels found for Melting Layer\n",
      "\n",
      "Recs :  0\n",
      "\n",
      "Recs :  0\n",
      "\n",
      "Recs :  1\n",
      "\n",
      "Recs :  1\n",
      "\n",
      "Recs :  0\n",
      "No levels found for Reflectivity\n",
      "No levels found for Specific Diff Phase\n",
      "No levels found for Storm Rel Velocity\n",
      "\n",
      "Recs :  0\n",
      "\n",
      "Recs :  0\n",
      "\n",
      "Recs :  2\n",
      "\n",
      "Recs :  0\n",
      "\n",
      "Recs :  1\n",
      "No levels found for Velocity\n",
      "\n",
      "Recs :  1\n"
     ]
    }
   ],
   "source": [
    "warnings.filterwarnings(\"ignore\",category =RuntimeWarning)\n",
    "\n",
    "def make_map(bbox, projection=ccrs.PlateCarree()):\n",
    "    fig, ax = plt.subplots(figsize=(16, 16),\n",
    "                           subplot_kw=dict(projection=projection))\n",
    "    ax.set_extent(bbox)\n",
    "    ax.coastlines(resolution='50m')\n",
    "    gl = ax.gridlines(draw_labels=True)\n",
    "    gl.xlabels_top = gl.ylabels_right = False\n",
    "    gl.xformatter = LONGITUDE_FORMATTER\n",
    "    gl.yformatter = LATITUDE_FORMATTER\n",
    "    return fig, ax\n",
    "\n",
    "nexrad_data = {}\n",
    "\n",
    "for prod in productNames:\n",
    "\n",
    "    request.setParameters(prod)\n",
    "    availableLevels = DataAccessLayer.getAvailableLevels(request)\n",
    "    if availableLevels:\n",
    "        request.setLevels(availableLevels[0])\n",
    "    else:\n",
    "        print(\"No levels found for \" + prod)\n",
    "        continue\n",
    "\n",
    "    cycles = DataAccessLayer.getAvailableTimes(request, True)\n",
    "    times = DataAccessLayer.getAvailableTimes(request)\n",
    "\n",
    "    if times:\n",
    "        print()\n",
    "        response = DataAccessLayer.getGridData(request, [times[-1]])\n",
    "        print(\"Recs : \", len(response))\n",
    "\n",
    "        if response:\n",
    "            grid = response[0]\n",
    "        else:\n",
    "            continue\n",
    "        data = grid.getRawData()\n",
    "        lons, lats = grid.getLatLonCoords()"
   ]
  },
  {
   "cell_type": "code",
   "execution_count": 10,
   "metadata": {},
   "outputs": [
    {
     "data": {
      "text/plain": [
       "(116, 116)"
      ]
     },
     "execution_count": 10,
     "metadata": {},
     "output_type": "execute_result"
    }
   ],
   "source": [
    "data.shape"
   ]
  },
  {
   "cell_type": "code",
   "execution_count": null,
   "metadata": {},
   "outputs": [],
   "source": []
  }
 ],
 "metadata": {
  "kernelspec": {
   "display_name": "Python 3",
   "language": "python",
   "name": "python3"
  },
  "language_info": {
   "codemirror_mode": {
    "name": "ipython",
    "version": 3
   },
   "file_extension": ".py",
   "mimetype": "text/x-python",
   "name": "python",
   "nbconvert_exporter": "python",
   "pygments_lexer": "ipython3",
   "version": "3.6.10"
  }
 },
 "nbformat": 4,
 "nbformat_minor": 4
}
